{
 "cells": [
  {
   "cell_type": "code",
   "execution_count": 31,
   "id": "99258eb6",
   "metadata": {},
   "outputs": [
    {
     "name": "stdout",
     "output_type": "stream",
     "text": [
      "Ttest_1sampResult(statistic=0.6371518397720076, pvalue=0.5255269137621352)\n",
      "\n",
      "En aquest exemple el valor de p és superior al nostre nivell de significància (0'05), per tant acceptem la Hipòtesi Nula: la mitjana de valors de GA és 50\n"
     ]
    }
   ],
   "source": [
    "#Exercicis d'Hipotesis Testing.\n",
    "#- Exercici 1\n",
    "#Descarrega el dataset adjunt de dades oficials de la UEFA i selecciona un atribut del conjunt de dades. Calcula el p-valor i digues si rebutja la hipòtesi nul·la agafant un alfa de 5%. \n",
    "import numpy as np\n",
    "import pandas as pd\n",
    "df =  pd.read_csv(\"Lligues europees UEFA.csv\",encoding='latin-1',delimiter=\";\")\n",
    "df.head()\n",
    "\n",
    "# Defineixo les següents hipòtesis: \n",
    "# H0 = la mitja dels valors de GA = 50\n",
    "# H1 = la mitja dels valors de GA és diferent de 50\n",
    "\n",
    "#Escojo los valores de GA: \n",
    "\n",
    "matrizGA = df.iloc[:,9]\n",
    "matrizGA.head()\n",
    "\n",
    "# Utilizo la función ttest_1samp () de la biblioteca scipy.stats para realizar una prueba t de muestra\n",
    "import scipy.stats as stats\n",
    "stats.ttest_1samp (a = matrizGA, popmean = 50)\n",
    "\n",
    "print(stats.ttest_1samp (a = matrizGA, popmean = 50))\n",
    "\n",
    "print(\"\\nEn aquest exemple el valor de p és superior al nostre nivell de significància (0'05), per tant acceptem la Hipòtesi Nula: la mitjana de valors de GA és 50\")"
   ]
  },
  {
   "cell_type": "code",
   "execution_count": null,
   "id": "e00652c0",
   "metadata": {},
   "outputs": [],
   "source": []
  },
  {
   "cell_type": "code",
   "execution_count": 32,
   "id": "1cbd7e1c",
   "metadata": {},
   "outputs": [
    {
     "name": "stdout",
     "output_type": "stream",
     "text": [
      "Ttest_indResult(statistic=-6.792744681975177, pvalue=1.3130128645308527e-10)\n",
      "\n",
      "En aquest exemple el valor de p és superior al nostre nivell de significància (0'05), per tant acceptem la Hipòtesi Nula: de mija s'han perdut el mateix número de partits que s'han empatat\n"
     ]
    }
   ],
   "source": [
    "#- Exercici 2\n",
    "#Amb el mateix dataset selecciona dos altres atributs del conjunt de dades. Calcula els p-valors i digues si rebutgen la hipòtesi nul·la agafant un alfa de 5%.\n",
    "\n",
    "# Defineixo les següents hipòtesis: \n",
    "# H0 = de mitjana el número de partits empatats i perduts és igual (la mitjana de D és igual a la de L)\n",
    "# H1 = de mitjana el número de partits empatats i perduts és diferent\n",
    "\n",
    "# Escullo els valors: \n",
    "valorsD = df.iloc[:, 6]\n",
    "valorsL = df.iloc[:, 7]\n",
    "\n",
    "# Realitzo el tests amb la funció ttest_ind () de la biblioteca scipy.stats:\n",
    "stats.ttest_ind (valorsD, valorsL, equal_var = True)\n",
    "print(stats.ttest_ind (valorsD, valorsL, equal_var = True))\n",
    "\n",
    "# print (np.var (valorsD)/ np.var (valorsL)): la relació entre variències és menor a 4, això ens permet establir el valor d'\"equal-var\" a True\n",
    "\n",
    "print(\"\\nEn aquest exemple el valor de p és superior al nostre nivell de significància (0'05), per tant acceptem la Hipòtesi Nula: de mija s'han perdut el mateix número de partits que s'han empatat\")\n"
   ]
  },
  {
   "cell_type": "code",
   "execution_count": 40,
   "id": "939bdfa2",
   "metadata": {},
   "outputs": [
    {
     "name": "stdout",
     "output_type": "stream",
     "text": [
      "Ttest_indResult(statistic=0.5246988652125442, pvalue=0.6003915995029129)\n",
      "Ttest_indResult(statistic=0.5699418634920853, pvalue=0.569376549088093)\n",
      "Ttest_indResult(statistic=-0.004459793662471358, pvalue=0.9964461939278364)\n",
      "\n",
      "Trobem que el valor de p és superior al nostre nivell de significància (0'05), als diferents tests, per tant podem acceptar la hipòtesi nula conforme la mitjana d'aquestes sèries de valors són iguals entre sí\n"
     ]
    }
   ],
   "source": [
    "#- Exercici 3\n",
    "#Continua amb el conjunt de dades adjunt i selecciona tres atributs del conjunt de dades. Calcula el p-valor i digues si rebutja la hipòtesi nul·la agafant un alfa de 5%.\n",
    "\n",
    "# Defineixo les següents hipòtesis:\n",
    "# H0: La mitjana de la suma de gols marcats és igual a la mitjana de gols esperats a favor, la de gols esperats en contra i la de punts són iguals. \n",
    "# La mitjana de la suma de gols marcats és igual a la mitjana de gols esperats a favor, la de gols esperats en contra i la de punts són diferents.\n",
    "\n",
    "# Escullo els valors: \n",
    "valors_pts = df.iloc[:, 11]\n",
    "valors_xG = df.iloc[:, 13]\n",
    "valors_xGA = df.iloc[:, 14]\n",
    "\n",
    "# Realitzo el tests amb la funció ttest_ind () de la biblioteca scipy.stats:\n",
    "stats.ttest_ind (valors_pts, valors_xG, equal_var = True)\n",
    "stats.ttest_ind (valors_pts, valors_xGA, equal_var = True)\n",
    "stats.ttest_ind (valors_xGA, valors_xG, equal_var = True)\n",
    "\n",
    "print(stats.ttest_ind (valors_pts, valors_xG, equal_var = True))\n",
    "print(stats.ttest_ind (valors_pts, valors_xGA, equal_var = True))\n",
    "print(stats.ttest_ind (valors_xGA, valors_xG, equal_var = True))\n",
    "\n",
    "\n",
    "print(\"\\nTrobem que el valor de p és superior al nostre nivell de significància (0'05) a les diferents funcions emprades, per tant podem acceptar la hipòtesi nula conforme la mitjana d'aquestes sèries de valors són iguals entre sí\")"
   ]
  }
 ],
 "metadata": {
  "kernelspec": {
   "display_name": "Python 3 (ipykernel)",
   "language": "python",
   "name": "python3"
  },
  "language_info": {
   "codemirror_mode": {
    "name": "ipython",
    "version": 3
   },
   "file_extension": ".py",
   "mimetype": "text/x-python",
   "name": "python",
   "nbconvert_exporter": "python",
   "pygments_lexer": "ipython3",
   "version": "3.9.12"
  }
 },
 "nbformat": 4,
 "nbformat_minor": 5
}
